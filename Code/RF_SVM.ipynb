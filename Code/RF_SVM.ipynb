{
 "cells": [
  {
   "cell_type": "code",
   "id": "initial_id",
   "metadata": {
    "collapsed": true,
    "ExecuteTime": {
     "end_time": "2025-03-19T02:24:24.633007Z",
     "start_time": "2025-03-19T02:24:24.623130Z"
    }
   },
   "source": [
    "import pandas as pd\n",
    "import numpy as np\n",
    "from sklearn.ensemble import RandomForestClassifier\n",
    "from sklearn.svm import SVC\n",
    "from sklearn.model_selection import train_test_split\n",
    "from sklearn.preprocessing import StandardScaler\n",
    "from sklearn.metrics import accuracy_score, classification_report"
   ],
   "outputs": [],
   "execution_count": 9
  },
  {
   "metadata": {
    "ExecuteTime": {
     "end_time": "2025-03-19T02:24:26.928333Z",
     "start_time": "2025-03-19T02:24:25.627513Z"
    }
   },
   "cell_type": "code",
   "source": [
    "# Đọc dữ liệu\n",
    "data = pd.read_csv('D:\\Seminar\\Code\\data\\Dataset_Cancer.csv')\n",
    "\n",
    "# Kiểm tra dữ liệu\n",
    "print(data.head())\n",
    "\n",
    "# Giả sử cột chẩn đoán là 'diagnosis', với 'B' (lành) và 'M' (ác)\n",
    "data['diagnosis'] = data['diagnosis'].map({'B': 0, 'M': 1})\n",
    "\n",
    "# Xử lý dữ liệu\n",
    "X = data.drop(columns=['id', 'diagnosis'])  # Loại bỏ ID, lấy đặc trưng\n",
    "y = data['diagnosis']\n",
    "\n",
    "# Chia tập train-test\n",
    "X_train, X_test, y_train, y_test = train_test_split(X, y, test_size=0.3, random_state=42)\n",
    "\n",
    "# Chuẩn hóa dữ liệu\n",
    "scaler = StandardScaler()\n",
    "X_train_scaled = scaler.fit_transform(X_train)\n",
    "X_test_scaled = scaler.transform(X_test)\n",
    "\n",
    "# Bước 1: Dùng RF để chọn đặc trưng quan trọng\n",
    "rf = RandomForestClassifier(n_estimators=100, random_state=42)\n",
    "rf.fit(X_train_scaled, y_train)\n",
    "\n",
    "# Lấy độ quan trọng của từng đặc trưng\n",
    "feature_importances = rf.feature_importances_\n",
    "feature_names = np.array(X.columns)  # Đảm bảo là mảng NumPy\n",
    "\n",
    "# Sắp xếp các đặc trưng theo độ quan trọng (giảm dần)\n",
    "sorted_indices = np.argsort(feature_importances)[::-1]\n",
    "sorted_features = feature_names[sorted_indices]\n",
    "\n",
    "# Chọn top 10 đặc trưng quan trọng nhất\n",
    "top_n = 10\n",
    "selected_features = sorted_features[:top_n]\n",
    "print(\"Top 10 đặc trưng quan trọng:\", selected_features)\n",
    "\n",
    "# Lọc dữ liệu chỉ với các đặc trưng quan trọng\n",
    "X_train_selected = X_train[selected_features].values\n",
    "X_test_selected = X_test[selected_features].values\n",
    "\n",
    "# Bước 2: Huấn luyện SVM với các đặc trưng đã chọn\n",
    "svm = SVC(kernel='linear', random_state=42)\n",
    "svm.fit(X_train_selected, y_train)\n",
    "\n",
    "# Dự đoán\n",
    "y_pred = svm.predict(X_test_selected)\n",
    "\n",
    "# Đánh giá mô hình\n",
    "accuracy = accuracy_score(y_test, y_pred)\n",
    "print(f'Accuracy: {accuracy:.4f}')\n",
    "print(classification_report(y_test, y_pred))"
   ],
   "id": "d87d80d5eed6e3a3",
   "outputs": [
    {
     "name": "stderr",
     "output_type": "stream",
     "text": [
      "<>:2: SyntaxWarning: invalid escape sequence '\\S'\n",
      "<>:2: SyntaxWarning: invalid escape sequence '\\S'\n",
      "C:\\Users\\ADMIN\\AppData\\Local\\Temp\\ipykernel_16096\\946156794.py:2: SyntaxWarning: invalid escape sequence '\\S'\n",
      "  data = pd.read_csv('D:\\Seminar\\Code\\data\\Dataset_Cancer.csv')\n"
     ]
    },
    {
     "name": "stdout",
     "output_type": "stream",
     "text": [
      "         id diagnosis  radius_mean  texture_mean  perimeter_mean  area_mean  \\\n",
      "0    842302         M        17.99         10.38          122.80     1001.0   \n",
      "1    842517         M        20.57         17.77          132.90     1326.0   \n",
      "2  84300903         M        19.69         21.25          130.00     1203.0   \n",
      "3  84348301         M        11.42         20.38           77.58      386.1   \n",
      "4  84358402         M        20.29         14.34          135.10     1297.0   \n",
      "\n",
      "   smoothness_mean  compactness_mean  concavity_mean  concave points_mean  \\\n",
      "0          0.11840           0.27760          0.3001              0.14710   \n",
      "1          0.08474           0.07864          0.0869              0.07017   \n",
      "2          0.10960           0.15990          0.1974              0.12790   \n",
      "3          0.14250           0.28390          0.2414              0.10520   \n",
      "4          0.10030           0.13280          0.1980              0.10430   \n",
      "\n",
      "   ...  radius_worst  texture_worst  perimeter_worst  area_worst  \\\n",
      "0  ...         25.38          17.33           184.60      2019.0   \n",
      "1  ...         24.99          23.41           158.80      1956.0   \n",
      "2  ...         23.57          25.53           152.50      1709.0   \n",
      "3  ...         14.91          26.50            98.87       567.7   \n",
      "4  ...         22.54          16.67           152.20      1575.0   \n",
      "\n",
      "   smoothness_worst  compactness_worst  concavity_worst  concave points_worst  \\\n",
      "0            0.1622             0.6656           0.7119                0.2654   \n",
      "1            0.1238             0.1866           0.2416                0.1860   \n",
      "2            0.1444             0.4245           0.4504                0.2430   \n",
      "3            0.2098             0.8663           0.6869                0.2575   \n",
      "4            0.1374             0.2050           0.4000                0.1625   \n",
      "\n",
      "   symmetry_worst  fractal_dimension_worst  \n",
      "0          0.4601                  0.11890  \n",
      "1          0.2750                  0.08902  \n",
      "2          0.3613                  0.08758  \n",
      "3          0.6638                  0.17300  \n",
      "4          0.2364                  0.07678  \n",
      "\n",
      "[5 rows x 32 columns]\n",
      "Top 10 đặc trưng quan trọng: ['concave points_mean' 'concave points_worst' 'area_worst'\n",
      " 'concavity_mean' 'radius_worst' 'perimeter_worst' 'perimeter_mean'\n",
      " 'area_mean' 'concavity_worst' 'radius_mean']\n",
      "Accuracy: 0.9766\n",
      "              precision    recall  f1-score   support\n",
      "\n",
      "           0       0.98      0.98      0.98       108\n",
      "           1       0.97      0.97      0.97        63\n",
      "\n",
      "    accuracy                           0.98       171\n",
      "   macro avg       0.97      0.97      0.97       171\n",
      "weighted avg       0.98      0.98      0.98       171\n",
      "\n"
     ]
    }
   ],
   "execution_count": 10
  }
 ],
 "metadata": {
  "kernelspec": {
   "display_name": "Python 3",
   "language": "python",
   "name": "python3"
  },
  "language_info": {
   "codemirror_mode": {
    "name": "ipython",
    "version": 2
   },
   "file_extension": ".py",
   "mimetype": "text/x-python",
   "name": "python",
   "nbconvert_exporter": "python",
   "pygments_lexer": "ipython2",
   "version": "2.7.6"
  }
 },
 "nbformat": 4,
 "nbformat_minor": 5
}
